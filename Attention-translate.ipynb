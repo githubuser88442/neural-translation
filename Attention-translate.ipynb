{
 "cells": [
  {
   "cell_type": "code",
   "execution_count": 116,
   "metadata": {
    "ExecuteTime": {
     "end_time": "2018-09-27T16:40:01.597393Z",
     "start_time": "2018-09-27T16:39:59.994136Z"
    }
   },
   "outputs": [],
   "source": [
    "import torch\n",
    "from torch import nn\n",
    "import numpy as np\n",
    "from sklearn.model_selection import train_test_split\n",
    "from keras.preprocessing.text import Tokenizer\n",
    "from keras.preprocessing.sequence import pad_sequences\n",
    "from torch.utils.data import Dataset\n",
    "from fastai import DataBunch\n",
    "from fastai import Learner\n",
    "import torch.nn.functional as F\n",
    "torch.backends.cudnn.enabled = False "
   ]
  },
  {
   "cell_type": "markdown",
   "metadata": {},
   "source": [
    "### process data"
   ]
  },
  {
   "cell_type": "code",
   "execution_count": 117,
   "metadata": {
    "ExecuteTime": {
     "end_time": "2018-09-27T16:40:01.601408Z",
     "start_time": "2018-09-27T16:40:01.598397Z"
    }
   },
   "outputs": [],
   "source": [
    "data_path = 'DATA/'"
   ]
  },
  {
   "cell_type": "code",
   "execution_count": 118,
   "metadata": {
    "ExecuteTime": {
     "end_time": "2018-09-27T16:40:02.265669Z",
     "start_time": "2018-09-27T16:40:01.602410Z"
    }
   },
   "outputs": [],
   "source": [
    "input_texts = []\n",
    "target_texts = []\n",
    "input_characters = set()\n",
    "target_characters = set()\n",
    "\n",
    "with open(data_path + 'rus.txt', 'r', encoding='utf-8') as f:\n",
    "    lines = f.read().split('\\n')\n",
    "\n",
    "for line in lines[:-1]:\n",
    "    input_text, target_text = line.split('\\t')\n",
    "    # We use \"_bos_\" as the \"start of sequence\" token\n",
    "    # for the targets, and \"_eos_\" as \"end of sequence\" token\n",
    "    input_text = '_bos_ ' + input_text + ' _eos_'\n",
    "    target_text = '_bos_ ' + target_text + '_eos_'\n",
    "    input_texts.append(input_text)\n",
    "    target_texts.append(target_text)\n",
    "\n",
    "num_samples = len(input_texts)\n",
    "vocab_size = 50000\n",
    "\n",
    "from itertools import chain\n",
    "max_len = max(list(chain.from_iterable((len(x.split(' ')), len(y.split(' '))) for x, y in zip(input_texts, target_texts))))"
   ]
  },
  {
   "cell_type": "code",
   "execution_count": 119,
   "metadata": {
    "ExecuteTime": {
     "end_time": "2018-09-27T16:40:02.823120Z",
     "start_time": "2018-09-27T16:40:02.266672Z"
    }
   },
   "outputs": [
    {
     "name": "stdout",
     "output_type": "stream",
     "text": [
      "Number of samples: 304513\n",
      "Max sequence length for inputs: 45\n",
      "Max sequence length for outputs: 41\n",
      "Median sequence length for inputs: 8.0\n",
      "Median sequence length for outputs: 6.0\n"
     ]
    }
   ],
   "source": [
    "print('Number of samples:', num_samples)\n",
    "print('Max sequence length for inputs:', max([len(txt.split(' ')) for txt in input_texts]))\n",
    "print('Max sequence length for outputs:', max([len(txt.split(' ')) for txt in target_texts]))\n",
    "print('Median sequence length for inputs:', np.median([len(txt.split(' ')) for txt in input_texts]))\n",
    "print('Median sequence length for outputs:', np.median([len(txt.split(' ')) for txt in target_texts]))"
   ]
  },
  {
   "cell_type": "markdown",
   "metadata": {},
   "source": [
    "#### Tokenize"
   ]
  },
  {
   "cell_type": "code",
   "execution_count": 120,
   "metadata": {
    "ExecuteTime": {
     "end_time": "2018-09-27T16:40:20.264198Z",
     "start_time": "2018-09-27T16:40:02.824122Z"
    }
   },
   "outputs": [
    {
     "name": "stdout",
     "output_type": "stream",
     "text": [
      "318 1\n",
      "241 1\n"
     ]
    }
   ],
   "source": [
    "en_tokenizer = Tokenizer(num_words=vocab_size, lower=True, split=' ', oov_token='OOV')\n",
    "ru_tokenizer = Tokenizer(num_words=vocab_size, lower=True, split=' ', oov_token='OOV')\n",
    "en_tokenizer.fit_on_texts(input_texts)\n",
    "ru_tokenizer.fit_on_texts(target_texts)\n",
    "\n",
    "x_t = np.asarray(en_tokenizer.texts_to_sequences(input_texts))\n",
    "y_t = np.asarray(ru_tokenizer.texts_to_sequences(target_texts))\n",
    "print(en_tokenizer.word_index['coffee'], en_tokenizer.word_index['OOV'])\n",
    "print(ru_tokenizer.word_index['кофе'], ru_tokenizer.word_index['OOV'])\n",
    "print(en_tokenizer.word_index['_bos_'], en_tokenizer.word_index['_bos_'])\n",
    "print(ru_tokenizer.word_index['_eos_'], ru_tokenizer.word_index['_eos_'])\n",
    "\n",
    "x_t = pad_sequences(x_t, maxlen=max_len, dtype='int32', padding='post', truncating='post', value=0)\n",
    "y_t = pad_sequences(y_t, maxlen=max_len, dtype='int32', padding='post', truncating='post', value=0)"
   ]
  },
  {
   "cell_type": "code",
   "execution_count": 124,
   "metadata": {
    "ExecuteTime": {
     "end_time": "2018-09-27T16:40:20.272727Z",
     "start_time": "2018-09-27T16:40:20.265202Z"
    }
   },
   "outputs": [
    {
     "data": {
      "text/plain": [
       "('SOST Go. EOST', 'SOST Иди.EOST')"
      ]
     },
     "execution_count": 124,
     "metadata": {},
     "output_type": "execute_result"
    }
   ],
   "source": [
    "input_texts[0], target_texts[0]"
   ]
  },
  {
   "cell_type": "code",
   "execution_count": 126,
   "metadata": {
    "ExecuteTime": {
     "end_time": "2018-09-27T16:40:20.281771Z",
     "start_time": "2018-09-27T16:40:20.273742Z"
    }
   },
   "outputs": [
    {
     "data": {
      "text/plain": [
       "(array([ 2, 39,  3,  0,  0,  0,  0,  0,  0,  0,  0,  0,  0,  0,  0,  0,  0,\n",
       "         0,  0,  0,  0,  0,  0,  0,  0,  0,  0,  0,  0,  0,  0,  0,  0,  0,\n",
       "         0,  0,  0,  0,  0,  0,  0,  0,  0,  0,  0]),\n",
       " array([  2, 723,   3,   0,   0,   0,   0,   0,   0,   0,   0,   0,   0,\n",
       "          0,   0,   0,   0,   0,   0,   0,   0,   0,   0,   0,   0,   0,\n",
       "          0,   0,   0,   0,   0,   0,   0,   0,   0,   0,   0,   0,   0,\n",
       "          0,   0,   0,   0,   0,   0]),\n",
       " (304513, 45))"
      ]
     },
     "execution_count": 126,
     "metadata": {},
     "output_type": "execute_result"
    }
   ],
   "source": [
    "x_t[0], y_t[0], x_t.shape"
   ]
  },
  {
   "cell_type": "markdown",
   "metadata": {},
   "source": [
    "### Dataloader"
   ]
  },
  {
   "cell_type": "code",
   "execution_count": 127,
   "metadata": {},
   "outputs": [],
   "source": [
    "# Split\n",
    "x_trn, x_val, y_trn, y_val = train_test_split(x_t, y_t, test_size=0.1, random_state=42)"
   ]
  },
  {
   "cell_type": "code",
   "execution_count": 128,
   "metadata": {
    "ExecuteTime": {
     "end_time": "2018-09-27T16:40:20.393543Z",
     "start_time": "2018-09-27T16:40:20.283777Z"
    }
   },
   "outputs": [
    {
     "name": "stdout",
     "output_type": "stream",
     "text": [
      "x shape torch.Size([274061, 45])\n",
      "y shape torch.Size([274061, 45])\n",
      "x shape torch.Size([30452, 45])\n",
      "y shape torch.Size([30452, 45])\n"
     ]
    }
   ],
   "source": [
    "bs=16\n",
    "\n",
    "class TokDataset(Dataset):\n",
    "    def __init__(self, x, y):\n",
    "        self.x = x; self.y = y\n",
    "        self.len = len(self.x)\n",
    "        self.x_data = torch.from_numpy(self.x); self.x_data = self.x_data.long()\n",
    "        self.y_data = torch.from_numpy(self.y); self.y_data = self.y_data.long()\n",
    "        print('x shape', self.x_data.shape)\n",
    "        print('y shape', self.y_data.shape)\n",
    "        \n",
    "    def __getitem__(self, index):\n",
    "        return self.x_data[index], self.y_data[index]\n",
    "    \n",
    "    def __len__(self):\n",
    "        return self.len\n",
    "    \n",
    "ds = TokDataset(x_trn, y_trn)\n",
    "ds_val = TokDataset(x_val, y_val)\n",
    "dl = torch.utils.data.DataLoader(dataset=ds, batch_size=bs, shuffle=True, num_workers=0)\n",
    "dl_val = torch.utils.data.DataLoader(dataset=ds_val, batch_size=bs, shuffle=True, num_workers=0)"
   ]
  },
  {
   "cell_type": "code",
   "execution_count": 129,
   "metadata": {
    "ExecuteTime": {
     "end_time": "2018-09-27T16:40:20.410579Z",
     "start_time": "2018-09-27T16:40:20.394544Z"
    }
   },
   "outputs": [
    {
     "name": "stdout",
     "output_type": "stream",
     "text": [
      "torch.Size([45, 16]) torch.Size([45, 16])\n"
     ]
    }
   ],
   "source": [
    "# Values for testing\n",
    "test_values = iter(dl)\n",
    "xs, ys = next(test_values)\n",
    "xs, ys = xs.t(), ys.t()\n",
    "print(xs.shape, ys.shape)"
   ]
  },
  {
   "cell_type": "code",
   "execution_count": 130,
   "metadata": {
    "ExecuteTime": {
     "end_time": "2018-09-27T16:42:38.089470Z",
     "start_time": "2018-09-27T16:42:37.999253Z"
    }
   },
   "outputs": [],
   "source": [
    "class AttentionRNN(nn.Module):\n",
    "    def __init__(self, inp_sz, out_sz, em_sz, h_sz, n_l, voc_sz):\n",
    "        super().__init__()\n",
    "        self.em_sz, self.h_sz, self.n_l, self.inp_sz, self.out_sz, self.voc_sz = em_sz, h_sz, n_l, inp_sz, out_sz, voc_sz\n",
    "        # Encoder\n",
    "        self.enc_em = nn.Embedding(self.voc_sz, self.em_sz)\n",
    "        self.em_drp = nn.Dropout(0.15)\n",
    "        self.enc_gru = nn.GRU(self.em_sz, self.h_sz, num_layers=self.n_l, dropout=0.2)\n",
    "        self.enc_out = nn.Linear(self.h_sz, self.em_sz, bias=False)\n",
    "        self.enc_drp = nn.Dropout(0.3)\n",
    "        # Decoder\n",
    "        self.dec_em = nn.Embedding(self.voc_sz, self.em_sz)\n",
    "        self.dec_gru = nn.GRU(self.em_sz, self.em_sz, num_layers=self.n_l, dropout=0.2)\n",
    "        self.dec_out = nn.Linear(self.em_sz, self.voc_sz)\n",
    "        #self.out.weight.data = self.enc_em.weight.data\n",
    "        \n",
    "    def forward(self, inp):\n",
    "        # seq_len, bs\n",
    "        sl, bs = inp.shape\n",
    "        h = self.initHidden(bs)\n",
    "        x = self.em_drp(self.enc_em(inp))\n",
    "        enc_gru_out, h = self.enc_gru(x, h)\n",
    "        h = self.enc_drp(self.enc_out(h))\n",
    "        \n",
    "        dec_inp = torch.zeros(bs).long().cuda()\n",
    "        result = []\n",
    "        # What is this?\n",
    "        for i in range(self.out_sz):\n",
    "            # Get embedding\n",
    "            emb = self.dec_em(dec_inp).unsqueeze(0)\n",
    "            # Pass hidden state from (initially) self.enc_out and embedding to dec gru\n",
    "            outp, h = self.dec_gru(emb, h)\n",
    "            # Pass decoder output to dense, get probabilities of words in len of vocab_size\n",
    "            outp = self.dec_out(self.enc_drp(outp[0]))\n",
    "            result.append(outp)\n",
    "            # Get ind of biggest value for each batch \n",
    "            dec_inp = outp.data.max(1)[1]\n",
    "            # If all are padding break\n",
    "            if (dec_inp==0).all():\n",
    "                break\n",
    "        # Turn list of tensors into tensor\n",
    "        return torch.stack(result)\n",
    "    \n",
    "    def initHidden(self, bs): \n",
    "        # Num_layers, batch size, num hidden\n",
    "        return torch.zeros(self.n_l, bs, self.h_sz).cuda()"
   ]
  },
  {
   "cell_type": "code",
   "execution_count": 131,
   "metadata": {
    "ExecuteTime": {
     "end_time": "2018-09-27T16:42:39.160395Z",
     "start_time": "2018-09-27T16:42:38.783755Z"
    }
   },
   "outputs": [],
   "source": [
    "em_sz = 150\n",
    "n_h = 64\n",
    "n_l = 2\n",
    "\n",
    "inp_sz = max_len\n",
    "model = AttentionRNN(inp_sz, max_len, em_sz, n_h, n_l, vocab_size).cuda()"
   ]
  },
  {
   "cell_type": "code",
   "execution_count": 132,
   "metadata": {
    "ExecuteTime": {
     "end_time": "2018-09-27T16:42:40.645898Z",
     "start_time": "2018-09-27T16:42:40.023981Z"
    }
   },
   "outputs": [],
   "source": [
    "test_out = model(xs.cuda())"
   ]
  },
  {
   "cell_type": "code",
   "execution_count": 133,
   "metadata": {},
   "outputs": [
    {
     "name": "stdout",
     "output_type": "stream",
     "text": [
      "torch.Size([45, 16, 50000])\n",
      "torch.Size([47, 16, 50000])\n",
      "0\n"
     ]
    }
   ],
   "source": [
    "print(test_out.shape)\n",
    "# Padding example\n",
    "print(torch.nn.functional.pad(test_out, (0,0,0,0,0,2)).shape)\n",
    "# Last seq_len value is padded, so the sum of the vocab_size probs is 0\n",
    "print(int(torch.sum(torch.nn.functional.pad(test_out, (0,0,0,0,0,2))[-1].view(-1)).data))"
   ]
  },
  {
   "cell_type": "code",
   "execution_count": 134,
   "metadata": {},
   "outputs": [],
   "source": [
    "# http://course.fast.ai/lessons/lesson11.html\n",
    "# http://forums.fast.ai/t/part-2-lesson-11-wiki/14699\n",
    "# 1 hour in\n",
    "def seq2seq_loss(input, target):\n",
    "    # seq_len, bs\n",
    "    sl,bs = target.size()\n",
    "    # seq_len, bs, num_channels (vocab size)\n",
    "    sl_in,bs_in,nc = input.size()\n",
    "    # If the output sl is smaller than the actual sl, pad it.\n",
    "    # The shape of input is 'sl x bs x vocab_sz'\n",
    "    # The reason why have more 0's for padding, is because in PyTorch\n",
    "    # You have padding on the left, and right, so none on sl or bs or nc left side, but pad on right\n",
    "    # In this case, pad seq_len on the right by the difference between grount truth sl and input sl\n",
    "    if sl>sl_in: input = F.pad(input, (0,0,0,0,0,sl-sl_in))\n",
    "    # If its too long, just crop it\n",
    "    input = input[:sl]\n",
    "    # Cross entropy expects a rank 2 tensor, so flatten the seq_len\n",
    "    return F.cross_entropy(input.view(-1,nc), target.view(-1))#, ignore_index=1)"
   ]
  },
  {
   "cell_type": "markdown",
   "metadata": {},
   "source": [
    "### fastai DataBunch and fit"
   ]
  },
  {
   "cell_type": "code",
   "execution_count": 135,
   "metadata": {},
   "outputs": [],
   "source": [
    "d_bunch = DataBunch(dl, dl_val)\n",
    "learn = Learner(d_bunch, model, loss_fn=seq2seq_loss)"
   ]
  },
  {
   "cell_type": "code",
   "execution_count": 136,
   "metadata": {},
   "outputs": [
    {
     "data": {
      "application/vnd.jupyter.widget-view+json": {
       "model_id": "2986a42e21d340b3b58b1ffa343e0dae",
       "version_major": 2,
       "version_minor": 0
      },
      "text/plain": [
       "VBox(children=(HBox(children=(IntProgress(value=0, max=1), HTML(value='0.00% [0/1 00:00<00:00]'))), HTML(value…"
      ]
     },
     "metadata": {},
     "output_type": "display_data"
    },
    {
     "data": {
      "image/png": "[encoded data removed]",
      "text/plain": [
       "<Figure size 432x288 with 1 Axes>"
      ]
     },
     "metadata": {},
     "output_type": "display_data"
    }
   ],
   "source": [
    "learn.lr_find()\n",
    "learn.recorder.plot()"
   ]
  },
  {
   "cell_type": "code",
   "execution_count": 137,
   "metadata": {},
   "outputs": [],
   "source": [
    "lr=1e-3"
   ]
  },
  {
   "cell_type": "code",
   "execution_count": null,
   "metadata": {},
   "outputs": [],
   "source": [
    "# TODO use clr \n",
    "learn.fit(1, lr)"
   ]
  },
  {
   "cell_type": "code",
   "execution_count": 143,
   "metadata": {},
   "outputs": [],
   "source": [
    "learn.save('initial')"
   ]
  },
  {
   "cell_type": "code",
   "execution_count": null,
   "metadata": {},
   "outputs": [],
   "source": [
    "learn.load('initial')"
   ]
  },
  {
   "cell_type": "markdown",
   "metadata": {},
   "source": [
    "# TODO"
   ]
  },
  {
   "cell_type": "code",
   "execution_count": null,
   "metadata": {
    "ExecuteTime": {
     "end_time": "2018-09-23T10:58:26.564284Z",
     "start_time": "2018-09-23T10:58:26.547745Z"
    }
   },
   "outputs": [],
   "source": [
    "\n",
    "###RUN THROUGH DL2 TRANSLATE NOTEBOOK AND ANSWER THESE QUESTIONS\n",
    "#########################################\n",
    "## WHAT IS \n",
    "\n",
    "#vecs_enc - \n",
    "    # Dict of words, with embedding vectors values\n",
    "    # https://i.imgur.com/nIELpdY.png\n",
    "    # https://i.imgur.com/RgBnu4O.png\n",
    "#itos_enc - \n",
    "    # Index to string\n",
    "    # List of strings, of which the list index is pointing to a word\n",
    "    # https://i.imgur.com/oq6Kcv1.png\n",
    "    # https://i.imgur.com/dXSh60V.png\n",
    "#vecs_dec - Same as vecs_enc, but for dec\n",
    "#itos_dec - Same as itos_enc but for dec\n",
    "#########################################\n",
    "##WHAT DOES create_emb DO\n",
    "    # Makes an embedding with wiki vectors weights tripled \n",
    "## WHAT IS THE sl,bs IN inp.size()\n",
    "    # bs is batch size\n",
    "    # sl is seq_len https://i.imgur.com/icfxqv9.png\n",
    "\n",
    "##WHAT DOES THE FOR LOOP IN FORWARD DO\n",
    "    # Get encoder input values from embeddings\n",
    "    # Send enc hidden and embedding to decoder gru\n",
    "    # Get highest value per patch\n",
    "    # Append to result\n",
    "\n",
    "##WHY DO YOU TAKE WEIGHT DATA OF OUTPUT EMBEDDINGS (IS THAT RELATED TO THE RETURN?)\n",
    "\n",
    "\n",
    "##########################################\n",
    "###FIGURE OUT THE LOSS FUNCTION\n",
    "\n",
    "## WHY DO YOU PAD THE INPUT LIKE THAT\n",
    "\n",
    "## WHY DO YOU SLICE THE INPUT\n",
    "##########################################"
   ]
  },
  {
   "cell_type": "code",
   "execution_count": null,
   "metadata": {
    "ExecuteTime": {
     "end_time": "2018-09-22T11:58:46.624860Z",
     "start_time": "2018-09-22T11:58:46.622855Z"
    }
   },
   "outputs": [],
   "source": [
    "# TRY TO TRAIN IT, WRITE OWN TRAIN LOOP"
   ]
  },
  {
   "cell_type": "code",
   "execution_count": null,
   "metadata": {
    "ExecuteTime": {
     "end_time": "2018-09-22T11:58:25.249402Z",
     "start_time": "2018-09-22T11:58:25.247405Z"
    }
   },
   "outputs": [],
   "source": [
    "# CONVERT IT TO BIDIR"
   ]
  },
  {
   "cell_type": "code",
   "execution_count": null,
   "metadata": {
    "ExecuteTime": {
     "end_time": "2018-09-22T11:58:08.624959Z",
     "start_time": "2018-09-22T11:58:08.622955Z"
    }
   },
   "outputs": [],
   "source": [
    "# TEACHER FORCING"
   ]
  },
  {
   "cell_type": "code",
   "execution_count": null,
   "metadata": {
    "ExecuteTime": {
     "end_time": "2018-09-22T11:58:15.176179Z",
     "start_time": "2018-09-22T11:58:15.174175Z"
    }
   },
   "outputs": [],
   "source": [
    "# ATTENTION"
   ]
  },
  {
   "cell_type": "code",
   "execution_count": null,
   "metadata": {
    "ExecuteTime": {
     "end_time": "2018-09-22T11:58:34.922938Z",
     "start_time": "2018-09-22T11:58:34.920934Z"
    }
   },
   "outputs": [],
   "source": [
    "# ALL"
   ]
  },
  {
   "cell_type": "code",
   "execution_count": null,
   "metadata": {
    "ExecuteTime": {
     "end_time": "2018-09-22T11:59:06.256912Z",
     "start_time": "2018-09-22T11:59:06.254906Z"
    }
   },
   "outputs": [],
   "source": [
    "# CONVERT MODEL TO PRDOCTION"
   ]
  },
  {
   "cell_type": "markdown",
   "metadata": {},
   "source": [
    "### Inference"
   ]
  },
  {
   "cell_type": "code",
   "execution_count": 139,
   "metadata": {},
   "outputs": [],
   "source": [
    "en_itos = dict(map(reversed, en_tokenizer.word_index.items()))\n",
    "ru_itos = dict(map(reversed, ru_tokenizer.word_index.items()))"
   ]
  },
  {
   "cell_type": "code",
   "execution_count": 140,
   "metadata": {},
   "outputs": [
    {
     "name": "stdout",
     "output_type": "stream",
     "text": [
      "sost i kept my word eost\n",
      "sost я сдержал слово eost\n",
      "sost я не eost eost eost\n",
      "\n",
      "sost i must work hard to make up for lost time eost\n",
      "sost я должен много работать чтобы нагнать потерянное время eost\n",
      "sost я не eost eost eost\n",
      "\n",
      "sost you're a very handsome man eost\n",
      "sost вы очень красивый мужчина eost\n",
      "sost я не eost eost eost\n",
      "\n",
      "sost tom said he was going to talk to mary eost\n",
      "sost том сказал что собирается поговорить с мэри eost\n",
      "sost я не eost eost eost\n",
      "\n",
      "sost are you coming tomorrow eost\n",
      "sost ты завтра придёшь eost\n",
      "sost я не eost eost eost\n",
      "\n",
      "sost i have a dentist appointment eost\n",
      "sost я записан на приём к дантисту eost\n",
      "sost я не eost eost eost\n",
      "\n",
      "sost tom thought you were busy eost\n",
      "sost том думал что вы заняты eost\n",
      "sost я не eost eost eost\n",
      "\n",
      "sost when will you begin eost\n",
      "sost когда начнёшь eost\n",
      "sost я не eost eost eost\n",
      "\n",
      "sost bring me my bag eost\n",
      "sost принесите мне мою сумку eost\n",
      "sost я не eost eost eost\n",
      "\n"
     ]
    }
   ],
   "source": [
    "x,y = next(iter(dl_val))\n",
    "probs = learn.model(x.cuda())\n",
    "preds = probs.max(2)[1].cpu().numpy()\n",
    "x,y = x.cpu().numpy(), y.cpu().numpy()\n",
    "\n",
    "for i in range(1,10):\n",
    "    print(' '.join([en_itos[o] for o in x[i, :] if o != 0]))\n",
    "    print(' '.join([ru_itos[o] for o in y[i, :] if o != 0]))\n",
    "    print(' '.join([ru_itos[o] for o in preds[i,:] if o!=0]))\n",
    "    print()"
   ]
  },
  {
   "cell_type": "code",
   "execution_count": null,
   "metadata": {},
   "outputs": [],
   "source": []
  }
 ],
 "metadata": {
  "kernelspec": {
   "display_name": "Python (baseenv)",
   "language": "python",
   "name": "baseenv"
  },
  "language_info": {
   "codemirror_mode": {
    "name": "ipython",
    "version": 3
   },
   "file_extension": ".py",
   "mimetype": "text/x-python",
   "name": "python",
   "nbconvert_exporter": "python",
   "pygments_lexer": "ipython3",
   "version": "3.6.5"
  }
 },
 "nbformat": 4,
 "nbformat_minor": 2
}
